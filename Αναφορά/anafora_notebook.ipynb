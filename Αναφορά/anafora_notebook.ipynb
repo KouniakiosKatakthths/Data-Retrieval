{
 "cells": [
  {
   "cell_type": "markdown",
   "metadata": {},
   "source": [
    "# Ανάκτηση Πληροφορίας\n",
    "\n",
    "Σουκαράς Σωτήριος ice21390206\n",
    "Θεοφάνης Κουνιάκης ice21390103\n"
   ]
  },
  {
   "cell_type": "markdown",
   "metadata": {},
   "source": [
    "### Βήμα 1: Συλλογή δεδομένων\n",
    "\n",
    "Για τη συλλογή δεδομένων έχει καταστευάσετει ένα αναδρομικό προγράμμα Data Scrape για Wikipedia. \n",
    "\n",
    "**To id \"mv-\""
   ]
  },
  {
   "cell_type": "code",
   "execution_count": null,
   "metadata": {},
   "outputs": [],
   "source": []
  }
 ],
 "metadata": {
  "language_info": {
   "name": "python"
  }
 },
 "nbformat": 4,
 "nbformat_minor": 2
}
